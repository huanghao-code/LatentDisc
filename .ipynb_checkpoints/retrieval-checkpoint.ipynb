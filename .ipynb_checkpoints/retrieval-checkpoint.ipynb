{
 "cells": [
  {
   "cell_type": "code",
   "execution_count": 4,
   "metadata": {},
   "outputs": [
    {
     "name": "stdout",
     "output_type": "stream",
     "text": [
      "(6012, 64)\n"
     ]
    },
    {
     "ename": "NameError",
     "evalue": "name 'save_name' is not defined",
     "output_type": "error",
     "traceback": [
      "\u001b[0;31m---------------------------------------------------------------------------\u001b[0m",
      "\u001b[0;31mNameError\u001b[0m                                 Traceback (most recent call last)",
      "\u001b[0;32m<ipython-input-4-b33e0e236572>\u001b[0m in \u001b[0;36m<module>\u001b[0;34m\u001b[0m\n\u001b[1;32m     40\u001b[0m '''\n\u001b[1;32m     41\u001b[0m \u001b[0mcheckpoint_dir\u001b[0m \u001b[0;34m=\u001b[0m \u001b[0;34m'results/'\u001b[0m\u001b[0;34m\u001b[0m\u001b[0;34m\u001b[0m\u001b[0m\n\u001b[0;32m---> 42\u001b[0;31m \u001b[0mz_space\u001b[0m \u001b[0;34m=\u001b[0m \u001b[0mtorch\u001b[0m\u001b[0;34m.\u001b[0m\u001b[0mload\u001b[0m\u001b[0;34m(\u001b[0m\u001b[0msave_name\u001b[0m\u001b[0;34m+\u001b[0m\u001b[0;34m'_latents.pt'\u001b[0m\u001b[0;34m,\u001b[0m\u001b[0mmap_location\u001b[0m\u001b[0;34m=\u001b[0m\u001b[0;34m'cpu'\u001b[0m\u001b[0;34m)\u001b[0m\u001b[0;34m\u001b[0m\u001b[0;34m\u001b[0m\u001b[0m\n\u001b[0m\u001b[1;32m     43\u001b[0m \u001b[0mz_space_np\u001b[0m \u001b[0;34m=\u001b[0m \u001b[0mz_space\u001b[0m\u001b[0;34m.\u001b[0m\u001b[0mcpu\u001b[0m\u001b[0;34m(\u001b[0m\u001b[0;34m)\u001b[0m\u001b[0;34m.\u001b[0m\u001b[0mdetach\u001b[0m\u001b[0;34m(\u001b[0m\u001b[0;34m)\u001b[0m\u001b[0;34m.\u001b[0m\u001b[0mnumpy\u001b[0m\u001b[0;34m(\u001b[0m\u001b[0;34m)\u001b[0m\u001b[0;34m\u001b[0m\u001b[0;34m\u001b[0m\u001b[0m\n\u001b[1;32m     44\u001b[0m \u001b[0mprint\u001b[0m\u001b[0;34m(\u001b[0m\u001b[0mz_space_np\u001b[0m\u001b[0;34m.\u001b[0m\u001b[0mshape\u001b[0m\u001b[0;34m)\u001b[0m\u001b[0;34m\u001b[0m\u001b[0;34m\u001b[0m\u001b[0m\n",
      "\u001b[0;31mNameError\u001b[0m: name 'save_name' is not defined"
     ]
    }
   ],
   "source": [
    "import argparse\n",
    "import os\n",
    "import numpy as np\n",
    "import tqdm\n",
    "import pickle\n",
    "\n",
    "from matplotlib import cm\n",
    "import matplotlib.pyplot as plt\n",
    "from torch.utils.data import Dataset, DataLoader\n",
    "\n",
    "from data.dataloader import ModelNet_aligned\n",
    "from model.DeepLatent_naive import *\n",
    "from model.networks import *\n",
    "from utils.utils import *\n",
    "\n",
    "os.environ[\"CUDA_DEVICE_ORDER\"]=\"PCI_BUS_ID\"\n",
    "os.environ[\"CUDA_VISIBLE_DEVICES\"]='0'\n",
    "\n",
    "root = '/home/mmvc/mmvc-ny-nas/Yi_Shi/data/'\n",
    "\n",
    "checkpoint_dir_rotate = 'results/rotate/'\n",
    "save_name_rotate = os.path.join(checkpoint_dir_rotate,'model_best')\n",
    "\n",
    "checkpoint_dir_origin = 'results/compare/'\n",
    "save_name_origin = os.path.join(checkpoint_dir_origin,'model_best')\n",
    "\n",
    "# load latent_space\n",
    "z_space_rotate = torch.load(save_name_rotate+'_latents.pt',map_location='cpu')\n",
    "z_space_np_rotate = z_space_rotate.cpu().detach().numpy()\n",
    "\n",
    "\n",
    "z_space_origin = torch.load(save_name_origin+'_latents.pt',map_location='cpu')\n",
    "z_space_np_origin = z_space_origin.cpu().detach().numpy()\n",
    "print(z_space_np_origin.shape)\n",
    "# load latent_objects (just test latent space)\n",
    "'''\n",
    "z_obj = torch.load(save_name+'_test_latents.pt',map_location='cpu')\n",
    "z_obj_np = z_obj.cpu().detach().numpy()\n",
    "print(z_obj_np.shape)\n",
    "'''\n",
    "checkpoint_dir = 'results/'\n",
    "save_name = os.path.join(checkpoint_dir,'model_best')\n",
    "z_space = torch.load(save_name+'_latents.pt',map_location='cpu')\n",
    "z_space_np = z_space.cpu().detach().numpy()\n",
    "print(z_space_np.shape)\n"
   ]
  },
  {
   "cell_type": "code",
   "execution_count": null,
   "metadata": {},
   "outputs": [],
   "source": [
    "# 'results/'\n",
    "\n",
    "plane1 = z_space_np[7]\n",
    "plane2 = z_space_np[8]\n",
    "print(plane1) \n",
    "print(plane2)"
   ]
  },
  {
   "cell_type": "code",
   "execution_count": 2,
   "metadata": {},
   "outputs": [
    {
     "name": "stdout",
     "output_type": "stream",
     "text": [
      "[ 0.376585   -0.06310633  0.17798235 -0.98256236 -0.28453842 -2.15636\n",
      " -0.65014887  0.3521466   0.5168347  -0.66691625  0.08455294  0.09232404\n",
      "  0.1276689  -0.25887227 -0.32674566 -0.7452348  -0.00877333  0.4058183\n",
      "  0.98972654  0.557383    0.25083634  0.6470038  -0.2755571  -1.9467995\n",
      "  0.08166151 -0.71168464  0.48502475  1.6481284   0.11046111 -0.7397224\n",
      "  0.35488045  0.6806026   1.2270665  -0.5245112  -0.44524765 -0.3681951\n",
      "  1.0273824   1.8025538  -1.2916044  -0.81563187 -0.5820472  -0.4099668\n",
      "  0.11423023  1.9944735  -0.5458912   0.6202453   0.2823742   1.8150498\n",
      " -0.4553233  -0.65075916 -0.1576091   0.32902846 -0.23975761 -0.7467217\n",
      "  0.09157609  0.7131435  -0.6096961   0.6147955  -0.23207553  0.03290087\n",
      "  0.5539327  -0.29228565 -0.24341622  0.9846229 ]\n",
      "[-0.59101164  0.30353144 -0.623794   -1.4013017  -0.43590972  0.21404159\n",
      "  0.5497522  -0.3524819   0.97231513  0.28033096  0.7982548  -1.5098116\n",
      " -0.11287855  0.13017857  1.3033578   0.44008204  0.66857374 -0.6873521\n",
      " -0.04656393 -1.0841792  -0.9841895   0.9218303   0.6870459   2.17991\n",
      "  0.8381177   0.13457312 -0.26629013 -0.98763317  1.0913805   0.066728\n",
      " -0.03881197 -0.05061388 -1.410784   -1.158318    0.22491887 -0.5719151\n",
      " -0.09011061 -1.235472   -0.972843    0.396059   -0.31121594  0.12622237\n",
      "  0.2106202  -1.1148027  -1.6274672   0.15963165  0.84010047 -1.0794126\n",
      "  0.11543303 -0.9442548   0.07835314  0.7767186   0.68364376 -0.8123703\n",
      " -1.0001343   0.1665945  -0.993875   -1.1417432   0.84845924 -0.05823757\n",
      " -0.55043    -0.38212535 -0.6600985   0.36914954]\n"
     ]
    }
   ],
   "source": [
    "# 'results/compare'\n",
    "\n",
    "plane1 = z_space_np_origin[7]\n",
    "plane2 = z_space_np_origin[8]\n",
    "print(plane1) \n",
    "print(plane2)"
   ]
  },
  {
   "cell_type": "code",
   "execution_count": 3,
   "metadata": {},
   "outputs": [
    {
     "name": "stdout",
     "output_type": "stream",
     "text": [
      "[ 0.376585   -0.06310633  0.17798235 -0.98256236 -0.28453842 -2.15636\n",
      " -0.65014887  0.3521466   0.5168347  -0.66691625  0.08455294  0.09232404\n",
      "  0.1276689  -0.25887227 -0.32674566 -0.7452348  -0.00877333  0.4058183\n",
      "  0.98972654  0.557383    0.25083634  0.6470038  -0.2755571  -1.9467995\n",
      "  0.08166151 -0.71168464  0.48502475  1.6481284   0.11046111 -0.7397224\n",
      "  0.35488045  0.6806026   1.2270665  -0.5245112  -0.44524765 -0.3681951\n",
      "  1.0273824   1.8025538  -1.2916044  -0.81563187 -0.5820472  -0.4099668\n",
      "  0.11423023  1.9944735  -0.5458912   0.6202453   0.2823742   1.8150498\n",
      " -0.4553233  -0.65075916 -0.1576091   0.32902846 -0.23975761 -0.7467217\n",
      "  0.09157609  0.7131435  -0.6096961   0.6147955  -0.23207553  0.03290087\n",
      "  0.5539327  -0.29228565 -0.24341622  0.9846229 ]\n",
      "[-0.59101164  0.30353144 -0.623794   -1.4013017  -0.43590972  0.21404159\n",
      "  0.5497522  -0.3524819   0.97231513  0.28033096  0.7982548  -1.5098116\n",
      " -0.11287855  0.13017857  1.3033578   0.44008204  0.66857374 -0.6873521\n",
      " -0.04656393 -1.0841792  -0.9841895   0.9218303   0.6870459   2.17991\n",
      "  0.8381177   0.13457312 -0.26629013 -0.98763317  1.0913805   0.066728\n",
      " -0.03881197 -0.05061388 -1.410784   -1.158318    0.22491887 -0.5719151\n",
      " -0.09011061 -1.235472   -0.972843    0.396059   -0.31121594  0.12622237\n",
      "  0.2106202  -1.1148027  -1.6274672   0.15963165  0.84010047 -1.0794126\n",
      "  0.11543303 -0.9442548   0.07835314  0.7767186   0.68364376 -0.8123703\n",
      " -1.0001343   0.1665945  -0.993875   -1.1417432   0.84845924 -0.05823757\n",
      " -0.55043    -0.38212535 -0.6600985   0.36914954]\n"
     ]
    }
   ],
   "source": [
    "# 'results/rotate'\n",
    "\n",
    "plane1 = z_space_np_rotate[7]\n",
    "plane2 = z_space_np_rotate[8]\n",
    "print(plane1) \n",
    "print(plane2)"
   ]
  },
  {
   "cell_type": "code",
   "execution_count": null,
   "metadata": {},
   "outputs": [],
   "source": [
    "def read_cate_name(mode='train'):\n",
    "    dataset = ModelNet_aligned(root,None,mode=mode,downsample_num=2048)\n",
    "    indices = dataset.indices\n",
    "    categ = dataset.categ\n",
    "    names = dataset.npys_gen\n",
    "    names_instance = [os.path.split(i)[-1].split('.')[0] for i in names]\n",
    "    categs_instance = [categ.index('_'.join(i.split('_')[:-1])) for i in names_instance]\n",
    "    return names_instance,categs_instance\n",
    "\n",
    "def index2hot(indeces,rang=40):\n",
    "    num_ind = len(indeces)\n",
    "    b = np.zeros((num_ind,rang))\n",
    "    b[np.arange(num_ind), indeces] = 1\n",
    "    return b\n",
    "    \n",
    "names_instance,categs_instance = read_cate_name(mode='train')\n",
    "print(len(categs_instance),len(names_instance))\n",
    "y_test = index2hot(categs_instance)\n",
    "print(np.shape(y_test))"
   ]
  },
  {
   "cell_type": "code",
   "execution_count": null,
   "metadata": {},
   "outputs": [],
   "source": [
    "def average_precision(ranked_relevant, num_relevant_retrievable):\n",
    "    \"\"\"Calculate average precision for a ranked set\n",
    "    ranked_relevant : np.array\n",
    "        ranked boolean array for whether the rank contained a relevant result\n",
    "    num_relevant_retrievable : int\n",
    "        number of possible relevant documents\n",
    "    Returns\n",
    "    -------\n",
    "    average_precision : np.float64\n",
    "    \"\"\"\n",
    "    # The rank will be used to divide to get precision for everything\n",
    "    # to that point\n",
    "    # based on: http://web.cecs.pdx.edu/~maier/cs510iri/IR_Lectures/CS_510iri_Lecture8RelevanceEvaluation-revised.pdf\n",
    "    # This is a tricky calculation to be honest\n",
    "    \n",
    "    rank = np.arange(ranked_relevant.shape[0]) + 1\n",
    "    indices = np.arange(ranked_relevant.shape[0])\n",
    "    relevant_indices = np.zeros(ranked_relevant.shape[0])\n",
    "    relevant_indices[indices[ranked_relevant]] = \\\n",
    "        np.cumsum(ranked_relevant[indices[ranked_relevant]])\n",
    "    return np.sum(relevant_indices/rank)/num_relevant_retrievable\n",
    "\n",
    "def query_latent_space(latent_object, latent_space, query_size=10):\n",
    "    \"\"\"Query a latent space (bottleneck features from NN)\n",
    "    latent_object : np.array\n",
    "        object as represented in an N-D space\n",
    "    latent_space : np.array\n",
    "        matrix of N-d latent vectors each representing a model\n",
    "        in your associated latent space\n",
    "    query_size : int\n",
    "        number of relevant items to retrieve\n",
    "    Returns\n",
    "    -------\n",
    "    top_n_sorted_sims : np.array\n",
    "        cosine similarities for the top n rows in latent_space\n",
    "        where n is specified by `query_size`\n",
    "    top_n_sorted_indices : np.array\n",
    "        indices of top n rows from the latent_space\n",
    "    \"\"\"\n",
    "    sims = latent_space.dot(latent_object.T)\n",
    "    sorted_sims_indices = np.argpartition(sims,\n",
    "                                          range(-query_size, 0),\n",
    "                                          axis=0)\n",
    "    print(sorted_sims_indices.ravel()[:100])\n",
    "    top_n_sorted_indices = sorted_sims_indices[:-query_size-1:-1].ravel()\n",
    "    top_n_sorted_sims = sims[top_n_sorted_indices].ravel()\n",
    "    return top_n_sorted_sims, top_n_sorted_indices\n",
    "\n",
    "\n",
    "\n",
    "def _get_average_precisions(latent_space, x_latent_test, y_test):\n",
    "    test_size = x_latent_test.shape[0]\n",
    "    average_precisions = np.zeros(test_size)\n",
    "    for i in range(test_size):\n",
    "        num = i\n",
    "        num_retrievable = (np.argmax(y_test[num]) == \\\n",
    "                               np.argmax(y_test, axis=1)).sum()\n",
    "        # latent_object = latent_model.predict(x_test[num:num+1])\n",
    "        latent_object = latent_space[num: num+1]\n",
    "        sims, latent_indices = query_latent_space(latent_object,\n",
    "                                                  latent_space,\n",
    "                                                  test_size)\n",
    "        ranked_relevant = np.argmax(y_test[num]) ==\\\n",
    "                            np.argmax(y_test[latent_indices], axis=1)\n",
    "        average_precisions[i] = average_precision(ranked_relevant, num_retrievable)\n",
    "        if i % 100 == 0:\n",
    "            print('precisions_done_calculating_{}'.format(i))\n",
    "            print(ranked_relevant[:10])\n",
    "            print(num_retrievable)\n",
    "    return average_precisions\n",
    "\n"
   ]
  },
  {
   "cell_type": "code",
   "execution_count": null,
   "metadata": {},
   "outputs": [],
   "source": [
    "average_precisions = _get_average_precisions(z_space_np, z_space_np, y_test)\n",
    "print(average_precisions)"
   ]
  },
  {
   "cell_type": "code",
   "execution_count": null,
   "metadata": {},
   "outputs": [],
   "source": [
    "average_precisions = _get_average_precisions(z_obj_np, z_obj_np[0], y_test)"
   ]
  },
  {
   "cell_type": "code",
   "execution_count": null,
   "metadata": {},
   "outputs": [],
   "source": []
  }
 ],
 "metadata": {
  "kernelspec": {
   "display_name": "Python 3",
   "language": "python",
   "name": "python3"
  },
  "language_info": {
   "codemirror_mode": {
    "name": "ipython",
    "version": 3
   },
   "file_extension": ".py",
   "mimetype": "text/x-python",
   "name": "python",
   "nbconvert_exporter": "python",
   "pygments_lexer": "ipython3",
   "version": "3.6.9"
  }
 },
 "nbformat": 4,
 "nbformat_minor": 2
}
