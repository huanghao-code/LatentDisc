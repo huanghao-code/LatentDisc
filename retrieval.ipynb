{
 "cells": [
  {
   "cell_type": "code",
   "execution_count": 8,
   "metadata": {},
   "outputs": [
    {
     "name": "stdout",
     "output_type": "stream",
     "text": [
      "(6012, 64)\n",
      "(6012, 64)\n"
     ]
    }
   ],
   "source": [
    "import argparse\n",
    "import os\n",
    "import numpy as np\n",
    "import tqdm\n",
    "import pickle\n",
    "\n",
    "from matplotlib import cm\n",
    "import matplotlib.pyplot as plt\n",
    "from torch.utils.data import Dataset, DataLoader\n",
    "\n",
    "from data.dataloader import ModelNet_aligned\n",
    "from model.DeepLatent_naive import *\n",
    "from model.networks import *\n",
    "from utils.utils import *\n",
    "\n",
    "os.environ[\"CUDA_DEVICE_ORDER\"]=\"PCI_BUS_ID\"\n",
    "os.environ[\"CUDA_VISIBLE_DEVICES\"]='0'\n",
    "\n",
    "root = '/home/mmvc/mmvc-ny-nas/Yi_Shi/data/'\n",
    "\n",
    "checkpoint_dir_rotate = 'results/rotate/'\n",
    "save_name_rotate = os.path.join(checkpoint_dir_rotate,'model_best')\n",
    "\n",
    "checkpoint_dir_origin = 'results/compare/'\n",
    "save_name_origin = os.path.join(checkpoint_dir_origin,'model_best')\n",
    "\n",
    "# load latent_space\n",
    "z_space_rotate = torch.load(save_name_rotate+'_latents.pt',map_location='cpu')\n",
    "z_space_np_rotate = z_space_rotate.cpu().detach().numpy()\n",
    "\n",
    "\n",
    "z_space_origin = torch.load(save_name_origin+'_latents.pt',map_location='cpu')\n",
    "z_space_np_origin = z_space_origin.cpu().detach().numpy()\n",
    "print(z_space_np_origin.shape)\n",
    "# load latent_objects (just test latent space)\n",
    "'''\n",
    "z_obj = torch.load(save_name+'_test_latents.pt',map_location='cpu')\n",
    "z_obj_np = z_obj.cpu().detach().numpy()\n",
    "print(z_obj_np.shape)\n",
    "'''\n",
    "checkpoint_dir = 'results/'\n",
    "save_name = os.path.join(checkpoint_dir,'model_best')\n",
    "z_space = torch.load(save_name+'_latents.pt',map_location='cpu')\n",
    "z_space_np = z_space.cpu().detach().numpy()\n",
    "print(z_space_np.shape)\n"
   ]
  },
  {
   "cell_type": "code",
   "execution_count": 9,
   "metadata": {},
   "outputs": [
    {
     "name": "stdout",
     "output_type": "stream",
     "text": [
      "[-0.08715973 -0.6630114   0.8117807  -0.745369    0.65958416 -0.14853144\n",
      "  0.57874095 -1.2304403  -0.40630907 -0.79355186  0.15147398 -0.2557605\n",
      "  0.31648484  0.19282527 -0.16767517 -0.17237261  0.7979051  -0.11436005\n",
      " -1.3548379  -1.1813852   0.41406962  1.1439416  -0.54928946 -1.3060113\n",
      "  0.56093603  0.29515523  0.8904114  -0.5705787  -0.43122292 -1.9888573\n",
      " -0.67611194 -0.25050488  1.3936626   1.1342345   0.4250104   0.08145346\n",
      " -1.5397887   1.354573    0.79654837 -1.238793   -0.22760129  1.5287635\n",
      "  0.5229622  -1.0999314  -1.629337    1.4893793  -0.1379448  -0.85105145\n",
      "  0.49194762 -0.22032362 -1.8741381  -0.26011518  0.2673181  -1.3267775\n",
      " -0.20337844 -0.38614315  0.01190393  1.4399928  -0.24228673 -0.52177\n",
      " -0.45560777 -1.047439   -0.64601797 -1.2257345 ]\n",
      "[-0.42260602  0.9579401   0.86977154 -1.0133054   0.1442936  -0.3048018\n",
      " -0.8643564  -0.36328825  0.50591457  0.7493114   0.71494883 -0.0038961\n",
      " -0.4886492   0.9266805  -0.60979325 -0.86368054 -1.1683819   0.13915296\n",
      "  0.65565825 -0.63731474 -0.93015534 -1.0133418   0.6066272   0.13205867\n",
      "  0.3754262  -0.657262   -0.4894576  -0.51580024  0.46260583 -0.91413486\n",
      "  0.9397386   0.8353188   0.3872927   0.11543746  0.08372563 -0.55629396\n",
      "  1.1920332  -0.77596354 -1.2588474  -0.57965064  0.01324978 -0.5501945\n",
      "  0.23124133 -1.3949498  -0.7286053   0.5730194   0.80049723  0.5770143\n",
      " -0.3228406   0.61801434 -0.20722756 -0.10711315  0.2838876   0.238659\n",
      " -1.4755534   0.752805    0.61246884  0.4954328   0.00450312  1.1351451\n",
      "  0.4982915  -0.79936653 -0.4261534  -0.27559122]\n"
     ]
    }
   ],
   "source": [
    "# 'results/'\n",
    "\n",
    "plane1 = z_space_np[0]\n",
    "plane2 = z_space_np[1]\n",
    "print(plane1) \n",
    "print(plane2)"
   ]
  },
  {
   "cell_type": "code",
   "execution_count": 10,
   "metadata": {},
   "outputs": [
    {
     "name": "stdout",
     "output_type": "stream",
     "text": [
      "[-0.03074492 -0.71942616  0.8681955  -0.68895423  0.71599895 -0.20494628\n",
      "  0.63515574 -1.2868551  -0.34989423 -0.84996665  0.09505915 -0.3121753\n",
      "  0.37289965  0.2492399  -0.22409001 -0.11595777  0.8543199  -0.05794525\n",
      " -1.4112526  -1.1249703   0.3576548   1.2003564  -0.49287468 -1.3624262\n",
      "  0.6173508   0.35157007  0.8339966  -0.6269934  -0.48763773 -2.045272\n",
      " -0.7325267  -0.3069197   1.3372477   1.0778197   0.3685956   0.02503863\n",
      " -1.4833739   1.2981582   0.7401336  -1.2952079  -0.17118645  1.4723487\n",
      "  0.579377   -1.1563462  -1.6857518   1.4329644  -0.08152995 -0.79463667\n",
      "  0.43553278 -0.16390878 -1.8177233  -0.20370033  0.21090324 -1.2703626\n",
      " -0.1469636  -0.44255796 -0.04451067  1.4964076  -0.18587188 -0.5781848\n",
      " -0.51202255 -1.1038538  -0.70243275 -1.1693196 ]\n",
      "[-0.3625797   1.0179665   0.92979795 -0.9532787   0.08426706 -0.24477528\n",
      " -0.80433005 -0.42331463  0.565941    0.68928504  0.65492254  0.05613015\n",
      " -0.54867566  0.9867069  -0.66981953 -0.80365413 -1.1083555   0.0791264\n",
      "  0.7156846  -0.69734114 -0.9901816  -1.0733684   0.6666535   0.07203218\n",
      "  0.4354527  -0.7172883  -0.4294311  -0.4557739   0.4025797  -0.85410845\n",
      "  0.8797124   0.77529263  0.3272663   0.05541098  0.02369914 -0.49626794\n",
      "  1.1320065  -0.83598995 -1.318874   -0.6396769   0.07327629 -0.4901681\n",
      "  0.17121479 -1.3349231  -0.7886316   0.63304573  0.8605235   0.63703996\n",
      " -0.2628141   0.557988   -0.26725405 -0.16713965  0.22386146  0.29868552\n",
      " -1.53558     0.69277865  0.5524428   0.4354063  -0.05552328  1.0751193\n",
      "  0.438265   -0.7393401  -0.4861799  -0.21556471]\n"
     ]
    }
   ],
   "source": [
    "# 'results/compare'\n",
    "\n",
    "plane1 = z_space_np_origin[0]\n",
    "plane2 = z_space_np_origin[1]\n",
    "print(plane1) \n",
    "print(plane2)"
   ]
  },
  {
   "cell_type": "code",
   "execution_count": 3,
   "metadata": {},
   "outputs": [
    {
     "name": "stdout",
     "output_type": "stream",
     "text": [
      "[ 0.376585   -0.06310633  0.17798235 -0.98256236 -0.28453842 -2.15636\n",
      " -0.65014887  0.3521466   0.5168347  -0.66691625  0.08455294  0.09232404\n",
      "  0.1276689  -0.25887227 -0.32674566 -0.7452348  -0.00877333  0.4058183\n",
      "  0.98972654  0.557383    0.25083634  0.6470038  -0.2755571  -1.9467995\n",
      "  0.08166151 -0.71168464  0.48502475  1.6481284   0.11046111 -0.7397224\n",
      "  0.35488045  0.6806026   1.2270665  -0.5245112  -0.44524765 -0.3681951\n",
      "  1.0273824   1.8025538  -1.2916044  -0.81563187 -0.5820472  -0.4099668\n",
      "  0.11423023  1.9944735  -0.5458912   0.6202453   0.2823742   1.8150498\n",
      " -0.4553233  -0.65075916 -0.1576091   0.32902846 -0.23975761 -0.7467217\n",
      "  0.09157609  0.7131435  -0.6096961   0.6147955  -0.23207553  0.03290087\n",
      "  0.5539327  -0.29228565 -0.24341622  0.9846229 ]\n",
      "[-0.59101164  0.30353144 -0.623794   -1.4013017  -0.43590972  0.21404159\n",
      "  0.5497522  -0.3524819   0.97231513  0.28033096  0.7982548  -1.5098116\n",
      " -0.11287855  0.13017857  1.3033578   0.44008204  0.66857374 -0.6873521\n",
      " -0.04656393 -1.0841792  -0.9841895   0.9218303   0.6870459   2.17991\n",
      "  0.8381177   0.13457312 -0.26629013 -0.98763317  1.0913805   0.066728\n",
      " -0.03881197 -0.05061388 -1.410784   -1.158318    0.22491887 -0.5719151\n",
      " -0.09011061 -1.235472   -0.972843    0.396059   -0.31121594  0.12622237\n",
      "  0.2106202  -1.1148027  -1.6274672   0.15963165  0.84010047 -1.0794126\n",
      "  0.11543303 -0.9442548   0.07835314  0.7767186   0.68364376 -0.8123703\n",
      " -1.0001343   0.1665945  -0.993875   -1.1417432   0.84845924 -0.05823757\n",
      " -0.55043    -0.38212535 -0.6600985   0.36914954]\n"
     ]
    }
   ],
   "source": [
    "# 'results/rotate'\n",
    "\n",
    "plane1 = z_space_np_rotate[7]\n",
    "plane2 = z_space_np_rotate[8]\n",
    "print(plane1) \n",
    "print(plane2)"
   ]
  },
  {
   "cell_type": "code",
   "execution_count": null,
   "metadata": {},
   "outputs": [],
   "source": [
    "def read_cate_name(mode='train'):\n",
    "    dataset = ModelNet_aligned(root,None,mode=mode,downsample_num=2048)\n",
    "    indices = dataset.indices\n",
    "    categ = dataset.categ\n",
    "    names = dataset.npys_gen\n",
    "    names_instance = [os.path.split(i)[-1].split('.')[0] for i in names]\n",
    "    categs_instance = [categ.index('_'.join(i.split('_')[:-1])) for i in names_instance]\n",
    "    return names_instance,categs_instance\n",
    "\n",
    "def index2hot(indeces,rang=40):\n",
    "    num_ind = len(indeces)\n",
    "    b = np.zeros((num_ind,rang))\n",
    "    b[np.arange(num_ind), indeces] = 1\n",
    "    return b\n",
    "    \n",
    "names_instance,categs_instance = read_cate_name(mode='train')\n",
    "print(len(categs_instance),len(names_instance))\n",
    "y_test = index2hot(categs_instance)\n",
    "print(np.shape(y_test))"
   ]
  },
  {
   "cell_type": "code",
   "execution_count": null,
   "metadata": {},
   "outputs": [],
   "source": [
    "def average_precision(ranked_relevant, num_relevant_retrievable):\n",
    "    \"\"\"Calculate average precision for a ranked set\n",
    "    ranked_relevant : np.array\n",
    "        ranked boolean array for whether the rank contained a relevant result\n",
    "    num_relevant_retrievable : int\n",
    "        number of possible relevant documents\n",
    "    Returns\n",
    "    -------\n",
    "    average_precision : np.float64\n",
    "    \"\"\"\n",
    "    # The rank will be used to divide to get precision for everything\n",
    "    # to that point\n",
    "    # based on: http://web.cecs.pdx.edu/~maier/cs510iri/IR_Lectures/CS_510iri_Lecture8RelevanceEvaluation-revised.pdf\n",
    "    # This is a tricky calculation to be honest\n",
    "    \n",
    "    rank = np.arange(ranked_relevant.shape[0]) + 1\n",
    "    indices = np.arange(ranked_relevant.shape[0])\n",
    "    relevant_indices = np.zeros(ranked_relevant.shape[0])\n",
    "    relevant_indices[indices[ranked_relevant]] = \\\n",
    "        np.cumsum(ranked_relevant[indices[ranked_relevant]])\n",
    "    return np.sum(relevant_indices/rank)/num_relevant_retrievable\n",
    "\n",
    "def query_latent_space(latent_object, latent_space, query_size=10):\n",
    "    \"\"\"Query a latent space (bottleneck features from NN)\n",
    "    latent_object : np.array\n",
    "        object as represented in an N-D space\n",
    "    latent_space : np.array\n",
    "        matrix of N-d latent vectors each representing a model\n",
    "        in your associated latent space\n",
    "    query_size : int\n",
    "        number of relevant items to retrieve\n",
    "    Returns\n",
    "    -------\n",
    "    top_n_sorted_sims : np.array\n",
    "        cosine similarities for the top n rows in latent_space\n",
    "        where n is specified by `query_size`\n",
    "    top_n_sorted_indices : np.array\n",
    "        indices of top n rows from the latent_space\n",
    "    \"\"\"\n",
    "    sims = latent_space.dot(latent_object.T)\n",
    "    sorted_sims_indices = np.argpartition(sims,\n",
    "                                          range(-query_size, 0),\n",
    "                                          axis=0)\n",
    "    print(sorted_sims_indices.ravel()[:100])\n",
    "    top_n_sorted_indices = sorted_sims_indices[:-query_size-1:-1].ravel()\n",
    "    top_n_sorted_sims = sims[top_n_sorted_indices].ravel()\n",
    "    return top_n_sorted_sims, top_n_sorted_indices\n",
    "\n",
    "\n",
    "\n",
    "def _get_average_precisions(latent_space, x_latent_test, y_test):\n",
    "    test_size = x_latent_test.shape[0]\n",
    "    average_precisions = np.zeros(test_size)\n",
    "    for i in range(test_size):\n",
    "        num = i\n",
    "        num_retrievable = (np.argmax(y_test[num]) == \\\n",
    "                               np.argmax(y_test, axis=1)).sum()\n",
    "        # latent_object = latent_model.predict(x_test[num:num+1])\n",
    "        latent_object = latent_space[num: num+1]\n",
    "        sims, latent_indices = query_latent_space(latent_object,\n",
    "                                                  latent_space,\n",
    "                                                  test_size)\n",
    "        ranked_relevant = np.argmax(y_test[num]) ==\\\n",
    "                            np.argmax(y_test[latent_indices], axis=1)\n",
    "        average_precisions[i] = average_precision(ranked_relevant, num_retrievable)\n",
    "        if i % 100 == 0:\n",
    "            print('precisions_done_calculating_{}'.format(i))\n",
    "            print(ranked_relevant[:10])\n",
    "            print(num_retrievable)\n",
    "    return average_precisions\n",
    "\n"
   ]
  },
  {
   "cell_type": "code",
   "execution_count": null,
   "metadata": {},
   "outputs": [],
   "source": [
    "average_precisions = _get_average_precisions(z_space_np, z_space_np, y_test)\n",
    "print(average_precisions)"
   ]
  },
  {
   "cell_type": "code",
   "execution_count": null,
   "metadata": {},
   "outputs": [],
   "source": [
    "average_precisions = _get_average_precisions(z_obj_np, z_obj_np[0], y_test)"
   ]
  },
  {
   "cell_type": "code",
   "execution_count": null,
   "metadata": {},
   "outputs": [],
   "source": []
  }
 ],
 "metadata": {
  "kernelspec": {
   "display_name": "Python 3",
   "language": "python",
   "name": "python3"
  },
  "language_info": {
   "codemirror_mode": {
    "name": "ipython",
    "version": 3
   },
   "file_extension": ".py",
   "mimetype": "text/x-python",
   "name": "python",
   "nbconvert_exporter": "python",
   "pygments_lexer": "ipython3",
   "version": "3.6.9"
  }
 },
 "nbformat": 4,
 "nbformat_minor": 2
}
